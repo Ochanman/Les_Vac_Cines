{
 "cells": [
  {
   "cell_type": "code",
   "execution_count": 1,
   "id": "424dac90-8752-4456-8409-72783323fe5c",
   "metadata": {},
   "outputs": [],
   "source": [
    "import pandas as pd\n",
    "import numpy as np"
   ]
  },
  {
   "cell_type": "code",
   "execution_count": 2,
   "id": "6818809d-7196-4129-a5b9-7fdc6fb5778a",
   "metadata": {},
   "outputs": [],
   "source": [
    "# j'importe le DataFrame title_basics\n",
    "df_title_basics = pd.read_csv('title.basics.tsv\\data.tsv', sep=\"\\t\", low_memory=False)"
   ]
  },
  {
   "cell_type": "code",
   "execution_count": 3,
   "id": "9f43ba0d-135a-427d-9ee6-505229bca41a",
   "metadata": {},
   "outputs": [],
   "source": [
    "# je créé une liste des films que je souhaite supprimer, tout ce qui n'est pas movie\n",
    "filter_Movie_Short=df_title_basics[(df_title_basics['titleType']!='movie')]   \n",
    "drop_list_movie = list(filter_Movie_Short['tconst'])"
   ]
  },
  {
   "cell_type": "code",
   "execution_count": 4,
   "id": "ba77c922-bb41-47b1-b456-1361705eeeae",
   "metadata": {},
   "outputs": [],
   "source": [
    "# je créé une liste des films que je souhaite supprimer, tout ce qui sont pour adult\n",
    "filter_adult=df_title_basics[(df_title_basics['genres'].str.contains('Adult', na=False)) | (df_title_basics['isAdult'] == 1)]\n",
    "drop_list_Adult = list(filter_adult['tconst'])"
   ]
  },
  {
   "cell_type": "code",
   "execution_count": 5,
   "id": "d87ed0b8-4565-4034-85e2-8ebeaf515ece",
   "metadata": {},
   "outputs": [
    {
     "data": {
      "text/plain": [
       "array(['tt0000001', 'tt0000002', 'tt0000003', ..., 'tt9916852',\n",
       "       'tt9916856', 'tt9916880'], dtype='<U10')"
      ]
     },
     "execution_count": 5,
     "metadata": {},
     "output_type": "execute_result"
    }
   ],
   "source": [
    "# je joins mes deux listes dans un array et je m'assure qu'il n'y ai pas occurence \n",
    "# j'ai ainsi la liste de tous les films non souhaités\n",
    "filter_join_movies = drop_list_movie + drop_list_Adult\n",
    "filter_movies=np.unique(np.array(filter_join_movies))\n",
    "filter_movies"
   ]
  },
  {
   "cell_type": "code",
   "execution_count": 6,
   "id": "14e771c8-ab40-487c-94ad-dfb6243f4b72",
   "metadata": {},
   "outputs": [],
   "source": [
    "# j'importe title.crew.tsv \n",
    "df_title_crew = pd.read_csv('title.crew.tsv\\data.tsv', sep=\"\\t\")"
   ]
  },
  {
   "cell_type": "code",
   "execution_count": 7,
   "id": "96c918a8-354e-4a52-a744-fa8efb47c962",
   "metadata": {},
   "outputs": [],
   "source": [
    "# je remplace les \\N par des NaN\n",
    "df_title_crew = df_title_crew.replace(\"\\\\N\", np.nan)"
   ]
  },
  {
   "cell_type": "code",
   "execution_count": 8,
   "id": "1d314132-7436-41bc-8518-6c6807f1552b",
   "metadata": {},
   "outputs": [],
   "source": [
    "# j'applique le filtre et je refait le csv\n",
    "df_title_crew_filtered = df_title_crew[~df_title_crew.tconst.isin(filter_movies)]\n",
    "df_title_crew_filtered.to_csv(\"title_crew_repack.csv\", sep=\"\\t\", index=False)"
   ]
  },
  {
   "cell_type": "code",
   "execution_count": null,
   "id": "a4e4bb1f-d44c-45b8-9c99-ec82bfa39120",
   "metadata": {},
   "outputs": [],
   "source": []
  }
 ],
 "metadata": {
  "kernelspec": {
   "display_name": "Python 3 (ipykernel)",
   "language": "python",
   "name": "python3"
  },
  "language_info": {
   "codemirror_mode": {
    "name": "ipython",
    "version": 3
   },
   "file_extension": ".py",
   "mimetype": "text/x-python",
   "name": "python",
   "nbconvert_exporter": "python",
   "pygments_lexer": "ipython3",
   "version": "3.9.7"
  }
 },
 "nbformat": 4,
 "nbformat_minor": 5
}
